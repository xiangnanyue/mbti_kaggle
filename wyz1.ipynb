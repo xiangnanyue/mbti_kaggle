{
 "cells": [
  {
   "cell_type": "code",
   "execution_count": 18,
   "metadata": {},
   "outputs": [
    {
     "name": "stdout",
     "output_type": "stream",
     "text": [
      "Writing feature_extractor.py\n"
     ]
    }
   ],
   "source": [
    "%%file feature_extractor.py\n",
    "# -*- coding: utf-8 -*-\n",
    "\n",
    "from __future__ import unicode_literals\n",
    "\n",
    "from sklearn.feature_extraction.text import TfidfVectorizer\n",
    "import string\n",
    "import unicodedata\n",
    "import numpy as np\n",
    "from nltk.tokenize import word_tokenize\n",
    "from nltk.corpus import stopwords\n",
    "from nltk.stem import SnowballStemmer\n",
    "from sklearn.utils.validation import check_is_fitted\n",
    "from sklearn.preprocessing import OneHotEncoder, MaxAbsScaler\n",
    "from sklearn.decomposition import LatentDirichletAllocation\n",
    "\n",
    "# def document_preprocessor(doc):\n",
    "#     # TODO: is there a way to avoid these encode/decode calls?\n",
    "#     try:\n",
    "#         doc = unicode(doc, 'utf-8')\n",
    "#     except NameError:  # unicode is a default on python 3\n",
    "#         pass\n",
    "#     doc = unicodedata.normalize('NFD', doc)\n",
    "#     doc = doc.encode('ascii', 'ignore')\n",
    "#     doc = doc.decode(\"utf-8\")\n",
    "#     return str(doc)\n",
    "\n",
    "def token_processor(tokens):\n",
    "    stemmer = SnowballStemmer('english')\n",
    "    for token in tokens:\n",
    "        yield stemmer.stem(token)\n",
    "\n",
    "class FeatureExtractor(TfidfVectorizer):\n",
    "    \"\"\"Convert a collection of raw docs to a matrix of TF-IDF features. \"\"\"\n",
    "\n",
    "    def __init__(self):\n",
    "        # see ``TfidfVectorizer`` documentation for other feature\n",
    "        # extraction parameters.\n",
    "        super(FeatureExtractor, self).__init__(\n",
    "                analyzer='word',ngram_range = (1,2),\n",
    "                stop_words='english', decode_error='replace',\n",
    "                strip_accents='unicode',\n",
    "                max_df = 1.0, min_df = 0.0001)\n",
    "        self.lda = LatentDirichletAllocation(n_components=7, max_iter=20,\n",
    "                                learning_method='online',\n",
    "                                learning_offset=50.,\n",
    "                                random_state=None)\n",
    "\n",
    "    def fit(self, X_df, y=None):\n",
    "        \"\"\"Learn a vocabulary dictionary of all tokens in the raw documents.\n",
    "\n",
    "        Parameters\n",
    "        ----------\n",
    "        X_df : pandas.DataFrame\n",
    "            a DataFrame, where the text data is stored in the ``statement``\n",
    "            column.\n",
    "        \"\"\"\n",
    "        X_tf = super(FeatureExtractor, self).fit_transform(X_df.statement)\n",
    "        self.lda.fit(X_tf)\n",
    "        return self\n",
    "\n",
    "    def fit_transform(self, X_df, y=None):\n",
    "        \n",
    "        super(FeatureExtractor, self).fit(X_df)\n",
    "        \n",
    "        X_tf = self.transform(X_df)\n",
    "        return self.lda.transform(X_tf)\n",
    "\n",
    "    def transform(self, X_df):\n",
    "        X = super(FeatureExtractor, self).transform(X_df.statement)\n",
    "        return self.lda.transform(X)\n",
    "    \n",
    "    def build_tokenizer(self):\n",
    "        \"\"\"\n",
    "        Internal function, needed to plug-in the token processor, cf.\n",
    "        http://scikit-learn.org/stable/modules/feature_extraction.html#customizing-the-vectorizer-classes\n",
    "        \"\"\"\n",
    "        tokenize = super(FeatureExtractor, self).build_tokenizer()\n",
    "        return lambda doc: list(token_processor(tokenize(doc)))\n",
    "\n",
    "\n"
   ]
  },
  {
   "cell_type": "code",
   "execution_count": 19,
   "metadata": {},
   "outputs": [
    {
     "name": "stderr",
     "output_type": "stream",
     "text": [
      "Traceback (most recent call last):\n",
      "  File \"C:\\Users\\wuyunzhi\\Anaconda2\\envs\\p3\\Scripts\\ramp_test_submission-script.py\", line 11, in <module>\n",
      "    load_entry_point('ramp-workflow==0.2.0+10.g0b604a6', 'console_scripts', 'ramp_test_submission')()\n",
      "  File \"C:\\Users\\wuyunzhi\\Anaconda2\\envs\\p3\\lib\\site-packages\\ramp_workflow-0.2.0+10.g0b604a6-py3.5.egg\\rampwf\\utils\\command_line.py\", line 85, in ramp_test_submission\n",
      "    retrain=retrain)\n",
      "  File \"C:\\Users\\wuyunzhi\\Anaconda2\\envs\\p3\\lib\\site-packages\\ramp_workflow-0.2.0+10.g0b604a6-py3.5.egg\\rampwf\\utils\\testing.py\", line 534, in assert_submission\n",
      "    problem = assert_read_problem(ramp_kit_dir)\n",
      "  File \"C:\\Users\\wuyunzhi\\Anaconda2\\envs\\p3\\lib\\site-packages\\ramp_workflow-0.2.0+10.g0b604a6-py3.5.egg\\rampwf\\utils\\testing.py\", line 77, in assert_read_problem\n",
      "    problem = imp.load_source(module_name, join(ramp_kit_dir, 'problem.py'))\n",
      "  File \"C:\\Users\\wuyunzhi\\Anaconda2\\envs\\p3\\lib\\imp.py\", line 172, in load_source\n",
      "    module = _load(spec)\n",
      "  File \"<frozen importlib._bootstrap>\", line 693, in _load\n",
      "  File \"<frozen importlib._bootstrap>\", line 673, in _load_unlocked\n",
      "  File \"<frozen importlib._bootstrap_external>\", line 693, in exec_module\n",
      "  File \"<frozen importlib._bootstrap_external>\", line 798, in get_code\n",
      "  File \"C:\\Users\\wuyunzhi\\Anaconda2\\envs\\p3\\lib\\imp.py\", line 158, in get_data\n",
      "    return super().get_data(path)\n",
      "  File \"<frozen importlib._bootstrap_external>\", line 850, in get_data\n",
      "FileNotFoundError: [Errno 2] No such file or directory: '.\\\\problem.py'\n"
     ]
    }
   ],
   "source": [
    "!ramp_test_submission --submission wyz"
   ]
  },
  {
   "cell_type": "code",
   "execution_count": 17,
   "metadata": {},
   "outputs": [
    {
     "name": "stdout",
     "output_type": "stream",
     "text": [
      "C:\\Users\\wuyunzhi\\Documents\\course\\datacamp\n"
     ]
    }
   ],
   "source": [
    "cd .."
   ]
  },
  {
   "cell_type": "code",
   "execution_count": 1,
   "metadata": {},
   "outputs": [],
   "source": [
    "import os\n",
    "import pandas as pd\n",
    "import numpy as np\n",
    "import rampwf as rw\n",
    "from datetime import timedelta\n",
    "\n",
    "problem_title = 'personality prediction'\n",
    "_target_column_name = 'type'\n",
    "_prediction_label_names = [0, 1, 2, 3, 4, 5, 6, 7, 8, 9, 10, 11, 12, 13, 14, 15]\n",
    "dict = {'INFJ':0, 'ENTP':1, 'INTP':2, 'INTJ':3, 'ENTJ':4, 'ENFJ':5, 'INFP':6, 'ENFP':7, 'ISFP':8, 'ISTP':9,\n",
    " 'ISFJ':10, 'ISTJ':11, 'ESTP':12, 'ESFP':13, 'ESTJ':14, 'ESFJ':15}\n"
   ]
  },
  {
   "cell_type": "code",
   "execution_count": null,
   "metadata": {},
   "outputs": [],
   "source": []
  }
 ],
 "metadata": {
  "kernelspec": {
   "display_name": "Python 3",
   "language": "python",
   "name": "python3"
  },
  "language_info": {
   "codemirror_mode": {
    "name": "ipython",
    "version": 3
   },
   "file_extension": ".py",
   "mimetype": "text/x-python",
   "name": "python",
   "nbconvert_exporter": "python",
   "pygments_lexer": "ipython3",
   "version": "3.5.4"
  }
 },
 "nbformat": 4,
 "nbformat_minor": 2
}
