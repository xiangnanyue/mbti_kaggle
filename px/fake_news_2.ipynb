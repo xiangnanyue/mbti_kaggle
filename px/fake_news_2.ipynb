{
 "cells": [
  {
   "cell_type": "code",
   "execution_count": 1,
   "metadata": {},
   "outputs": [
    {
     "name": "stdout",
     "output_type": "stream",
     "text": [
      "Overwriting feature_extractor.py\n"
     ]
    }
   ],
   "source": [
    "%%file feature_extractor.py\n",
    "# -*- coding: utf-8 -*-\n",
    "\n",
    "from __future__ import unicode_literals\n",
    "\n",
    "from sklearn.feature_extraction.text import TfidfVectorizer\n",
    "import string\n",
    "import unicodedata\n",
    "import numpy as np\n",
    "from nltk.tokenize import word_tokenize\n",
    "from nltk.corpus import stopwords\n",
    "from nltk.stem import SnowballStemmer\n",
    "from sklearn.utils.validation import check_is_fitted\n",
    "from sklearn.preprocessing import OneHotEncoder, MaxAbsScaler\n",
    "from sklearn.decomposition import LatentDirichletAllocation\n",
    "\n",
    "# def document_preprocessor(doc):\n",
    "#     # TODO: is there a way to avoid these encode/decode calls?\n",
    "#     try:\n",
    "#         doc = unicode(doc, 'utf-8')\n",
    "#     except NameError:  # unicode is a default on python 3\n",
    "#         pass\n",
    "#     doc = unicodedata.normalize('NFD', doc)\n",
    "#     doc = doc.encode('ascii', 'ignore')\n",
    "#     doc = doc.decode(\"utf-8\")\n",
    "#     return str(doc)\n",
    "\n",
    "def token_processor(tokens):\n",
    "    stemmer = SnowballStemmer('english')\n",
    "    for token in tokens:\n",
    "        yield stemmer.stem(token)\n",
    "\n",
    "class FeatureExtractor(TfidfVectorizer):\n",
    "    \"\"\"Convert a collection of raw docs to a matrix of TF-IDF features. \"\"\"\n",
    "\n",
    "    def __init__(self):\n",
    "        # see ``TfidfVectorizer`` documentation for other feature\n",
    "        # extraction parameters.\n",
    "        super(FeatureExtractor, self).__init__(\n",
    "                analyzer='word',ngram_range = (1,2),\n",
    "                stop_words='english', decode_error='replace',\n",
    "                strip_accents='unicode',\n",
    "                max_df = 1.0, min_df = 0.0001)\n",
    "        self.lda = LatentDirichletAllocation(n_components=7, max_iter=20,\n",
    "                                learning_method='online',\n",
    "                                learning_offset=50.,\n",
    "                                random_state=None)\n",
    "\n",
    "    def fit(self, X_df, y=None):\n",
    "        \"\"\"Learn a vocabulary dictionary of all tokens in the raw documents.\n",
    "\n",
    "        Parameters\n",
    "        ----------\n",
    "        X_df : pandas.DataFrame\n",
    "            a DataFrame, where the text data is stored in the ``statement``\n",
    "            column.\n",
    "        \"\"\"\n",
    "        X_tf = super(FeatureExtractor, self).fit_transform(X_df.statement)\n",
    "        self.lda.fit(X_tf)\n",
    "        return self\n",
    "\n",
    "    def fit_transform(self, X_df, y=None):\n",
    "        \n",
    "        super(FeatureExtractor, self).fit(X_df)\n",
    "        \n",
    "        X_tf = self.transform(X_df)\n",
    "        return self.lda.transform(X_tf)\n",
    "\n",
    "    def transform(self, X_df):\n",
    "        X = super(FeatureExtractor, self).transform(X_df.statement)\n",
    "        return self.lda.transform(X)\n",
    "    \n",
    "    def build_tokenizer(self):\n",
    "        \"\"\"\n",
    "        Internal function, needed to plug-in the token processor, cf.\n",
    "        http://scikit-learn.org/stable/modules/feature_extraction.html#customizing-the-vectorizer-classes\n",
    "        \"\"\"\n",
    "        tokenize = super(FeatureExtractor, self).build_tokenizer()\n",
    "        return lambda doc: list(token_processor(tokenize(doc)))\n",
    "\n",
    "\n"
   ]
  },
  {
   "cell_type": "code",
   "execution_count": 3,
   "metadata": {},
   "outputs": [
    {
     "name": "stdout",
     "output_type": "stream",
     "text": [
      "\u001b[38;5;178m\u001b[1mTesting MBTI\u001b[0m\n",
      "\u001b[38;5;178m\u001b[1mReading train and test files from ./data ...\u001b[0m\n",
      "Traceback (most recent call last):\n",
      "  File \"/Users/panxiao/anaconda3/bin/ramp_test_submission\", line 11, in <module>\n",
      "    load_entry_point('ramp-workflow==0.2.0+8.gf3cf8ce', 'console_scripts', 'ramp_test_submission')()\n",
      "  File \"/Users/panxiao/anaconda3/lib/python3.6/site-packages/rampwf/utils/command_line.py\", line 85, in ramp_test_submission\n",
      "    retrain=retrain)\n",
      "  File \"/Users/panxiao/anaconda3/lib/python3.6/site-packages/rampwf/utils/testing.py\", line 536, in assert_submission\n",
      "    X_train, y_train, X_test, y_test = assert_data(ramp_kit_dir, ramp_data_dir)\n",
      "  File \"/Users/panxiao/anaconda3/lib/python3.6/site-packages/rampwf/utils/testing.py\", line 90, in assert_data\n",
      "    X_train, y_train = problem.get_train_data(path=ramp_data_dir)\n",
      "  File \"./problem.py\", line 73, in get_train_data\n",
      "    return _read_data(path, f_name)\n",
      "  File \"./problem.py\", line 61, in _read_data\n",
      "    data = pd.read_csv(os.path.join(path, 'data', f_name), sep='\\t')\n",
      "  File \"/Users/panxiao/anaconda3/lib/python3.6/site-packages/pandas/io/parsers.py\", line 709, in parser_f\n",
      "    return _read(filepath_or_buffer, kwds)\n",
      "  File \"/Users/panxiao/anaconda3/lib/python3.6/site-packages/pandas/io/parsers.py\", line 449, in _read\n",
      "    parser = TextFileReader(filepath_or_buffer, **kwds)\n",
      "  File \"/Users/panxiao/anaconda3/lib/python3.6/site-packages/pandas/io/parsers.py\", line 818, in __init__\n",
      "    self._make_engine(self.engine)\n",
      "  File \"/Users/panxiao/anaconda3/lib/python3.6/site-packages/pandas/io/parsers.py\", line 1049, in _make_engine\n",
      "    self._engine = CParserWrapper(self.f, **self.options)\n",
      "  File \"/Users/panxiao/anaconda3/lib/python3.6/site-packages/pandas/io/parsers.py\", line 1695, in __init__\n",
      "    self._reader = parsers.TextReader(src, **kwds)\n",
      "  File \"pandas/_libs/parsers.pyx\", line 402, in pandas._libs.parsers.TextReader.__cinit__\n",
      "  File \"pandas/_libs/parsers.pyx\", line 718, in pandas._libs.parsers.TextReader._setup_parser_source\n",
      "FileNotFoundError: File b'./data/train.csv' does not exist\n"
     ]
    }
   ],
   "source": [
    "!ramp_test_submission --quick-test"
   ]
  },
  {
   "cell_type": "code",
   "execution_count": null,
   "metadata": {
    "collapsed": true
   },
   "outputs": [],
   "source": []
  }
 ],
 "metadata": {
  "kernelspec": {
   "display_name": "Python 3",
   "language": "python",
   "name": "python3"
  },
  "language_info": {
   "codemirror_mode": {
    "name": "ipython",
    "version": 3
   },
   "file_extension": ".py",
   "mimetype": "text/x-python",
   "name": "python",
   "nbconvert_exporter": "python",
   "pygments_lexer": "ipython3",
   "version": "3.6.4"
  }
 },
 "nbformat": 4,
 "nbformat_minor": 2
}
