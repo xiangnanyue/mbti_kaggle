{
 "cells": [
  {
   "cell_type": "code",
   "execution_count": 1,
   "metadata": {},
   "outputs": [
    {
     "name": "stdout",
     "output_type": "stream",
     "text": [
      "Overwriting submissions/px/feature_extractor.py\n"
     ]
    }
   ],
   "source": [
    "%%file submissions/px/feature_extractor.py\n",
    "# -*- coding: utf-8 -*-\n",
    "\n",
    "from __future__ import unicode_literals\n",
    "\n",
    "from sklearn.feature_extraction.text import TfidfVectorizer\n",
    "\n",
    "\n",
    "def document_preprocessor(doc):\n",
    "    \"\"\" A custom document preprocessor\n",
    "\n",
    "    This function can be edited to add some additional\n",
    "    transformation on the documents prior to tokenization.\n",
    "\n",
    "    At present, this function passes the document through\n",
    "    without modification.\n",
    "    \"\"\"\n",
    "    return doc\n",
    "\n",
    "\n",
    "def token_processor(tokens):\n",
    "    \"\"\" A custom token processor\n",
    "\n",
    "    This function can be edited to add some additional\n",
    "    transformation on the extracted tokens (e.g. stemming)\n",
    "\n",
    "    At present, this function just passes the tokens through.\n",
    "    \"\"\"\n",
    "    for t in tokens:\n",
    "        yield t\n",
    "\n",
    "\n",
    "class FeatureExtractor(TfidfVectorizer):\n",
    "    \"\"\"Convert a collection of raw docs to a matrix of TF-IDF features. \"\"\"\n",
    "\n",
    "    def __init__(self):\n",
    "        # see ``TfidfVectorizer`` documentation for other feature\n",
    "        # extraction parameters.\n",
    "        super(FeatureExtractor, self).__init__(\n",
    "                analyzer='word', preprocessor=document_preprocessor)\n",
    "\n",
    "    def fit(self, X_df, y=None):\n",
    "        \"\"\"Learn a vocabulary dictionary of all tokens in the raw documents.\n",
    "\n",
    "        Parameters\n",
    "        ----------\n",
    "        X_df : pandas.DataFrame\n",
    "            a DataFrame, where the text data is stored in the ``statement``\n",
    "            column.\n",
    "        \"\"\"\n",
    "     \n",
    "        super(FeatureExtractor, self).fit(X_df.posts)\n",
    "        return self\n",
    "\n",
    "    def fit_transform(self, X_df, y=None):\n",
    "        return self.fit(X_df).transform(X_df)\n",
    "\n",
    "    def transform(self, X_df):\n",
    "        X = super(FeatureExtractor, self).transform(X_df.posts)\n",
    "        return X\n",
    "\n",
    "    def build_tokenizer(self):\n",
    "        \"\"\"\n",
    "        Internal function, needed to plug-in the token processor, cf.\n",
    "        http://scikit-learn.org/stable/modules/feature_extraction.html#customizing-the-vectorizer-classes\n",
    "        \"\"\"\n",
    "        tokenize = super(FeatureExtractor, self).build_tokenizer()\n",
    "        return lambda doc: list(token_processor(tokenize(doc)))\n",
    "\n",
    "\n"
   ]
  },
  {
   "cell_type": "code",
   "execution_count": 39,
   "metadata": {},
   "outputs": [
    {
     "name": "stdout",
     "output_type": "stream",
     "text": [
      "Overwriting submissions/px/classifier.py\n"
     ]
    }
   ],
   "source": [
    "%%file submissions/px/classifier.py\n",
    "# -*- coding: utf-8 -*-\n",
    "from sklearn.base import BaseEstimator\n",
    "from sklearn.ensemble import RandomForestClassifier\n",
    "\n",
    "\n",
    "class Classifier(BaseEstimator):\n",
    "    def __init__(self):\n",
    "        self.clf = RandomForestClassifier()\n",
    "\n",
    "    def fit(self, X, y):\n",
    "        #print(y)\n",
    "        self.clf.fit(X.todense(), y)\n",
    "\n",
    "    def predict(self, X):\n",
    "        return self.clf.predict(X.todense())\n",
    "\n",
    "    def predict_proba(self, X):\n",
    "        #print(X.shape)\n",
    "        y = self.clf.predict_proba(X)\n",
    "        #print(y.shape)\n",
    "        return y\n",
    "\n"
   ]
  },
  {
   "cell_type": "code",
   "execution_count": 43,
   "metadata": {},
   "outputs": [
    {
     "name": "stdout",
     "output_type": "stream",
     "text": [
      "\u001b[38;5;178m\u001b[1mTesting personality prediction\u001b[0m\n",
      "\u001b[38;5;178m\u001b[1mReading train and test files from ./data ...\u001b[0m\n",
      "\u001b[38;5;178m\u001b[1mReading cv ...\u001b[0m\n",
      "\u001b[38;5;178m\u001b[1mTraining ./submissions/px ...\u001b[0m\n",
      "\u001b[38;5;178m\u001b[1mCV fold 0\u001b[0m\n",
      "/Users/panxiao/anaconda3/lib/python3.6/site-packages/sklearn/feature_extraction/text.py:1089: FutureWarning: Conversion of the second argument of issubdtype from `float` to `np.floating` is deprecated. In future, it will be treated as `np.float64 == np.dtype(float).type`.\n",
      "  if hasattr(X, 'dtype') and np.issubdtype(X.dtype, np.float):\n",
      "/Users/panxiao/anaconda3/lib/python3.6/site-packages/sklearn/feature_extraction/text.py:1089: FutureWarning: Conversion of the second argument of issubdtype from `float` to `np.floating` is deprecated. In future, it will be treated as `np.float64 == np.dtype(float).type`.\n",
      "  if hasattr(X, 'dtype') and np.issubdtype(X.dtype, np.float):\n",
      "\t\u001b[38;5;178m\u001b[1mscore   sacc    acc  tfacc\u001b[0m\n",
      "\t\u001b[38;5;10m\u001b[1mtrain\u001b[0m  \u001b[38;5;10m\u001b[1m\u001b[38;5;150m0.697\u001b[0m\u001b[0m  \u001b[38;5;150m0.989\u001b[0m  \u001b[38;5;10m\u001b[1m\u001b[38;5;150m0.697\u001b[0m\u001b[0m\n",
      "\t\u001b[38;5;12m\u001b[1mvalid\u001b[0m  \u001b[38;5;12m\u001b[1m\u001b[38;5;105m0.174\u001b[0m\u001b[0m  \u001b[38;5;105m0.200\u001b[0m  \u001b[38;5;12m\u001b[1m\u001b[38;5;105m0.174\u001b[0m\u001b[0m\n",
      "\t\u001b[38;5;1m\u001b[1mtest\u001b[0m   \u001b[38;5;1m\u001b[1m\u001b[38;5;218m0.632\u001b[0m\u001b[0m  \u001b[38;5;218m0.890\u001b[0m  \u001b[38;5;1m\u001b[1m\u001b[38;5;218m0.632\u001b[0m\u001b[0m\n",
      "\u001b[38;5;178m\u001b[1mCV fold 1\u001b[0m\n",
      "/Users/panxiao/anaconda3/lib/python3.6/site-packages/sklearn/feature_extraction/text.py:1089: FutureWarning: Conversion of the second argument of issubdtype from `float` to `np.floating` is deprecated. In future, it will be treated as `np.float64 == np.dtype(float).type`.\n",
      "  if hasattr(X, 'dtype') and np.issubdtype(X.dtype, np.float):\n",
      "\t\u001b[38;5;178m\u001b[1mscore   sacc    acc  tfacc\u001b[0m\n",
      "\t\u001b[38;5;10m\u001b[1mtrain\u001b[0m  \u001b[38;5;10m\u001b[1m\u001b[38;5;150m0.688\u001b[0m\u001b[0m  \u001b[38;5;150m0.991\u001b[0m  \u001b[38;5;10m\u001b[1m\u001b[38;5;150m0.688\u001b[0m\u001b[0m\n",
      "\t\u001b[38;5;12m\u001b[1mvalid\u001b[0m  \u001b[38;5;12m\u001b[1m\u001b[38;5;105m0.174\u001b[0m\u001b[0m  \u001b[38;5;105m0.256\u001b[0m  \u001b[38;5;12m\u001b[1m\u001b[38;5;105m0.174\u001b[0m\u001b[0m\n",
      "\t\u001b[38;5;1m\u001b[1mtest\u001b[0m   \u001b[38;5;1m\u001b[1m\u001b[38;5;218m0.624\u001b[0m\u001b[0m  \u001b[38;5;218m0.899\u001b[0m  \u001b[38;5;1m\u001b[1m\u001b[38;5;218m0.624\u001b[0m\u001b[0m\n",
      "\u001b[38;5;178m\u001b[1mCV fold 2\u001b[0m\n",
      "/Users/panxiao/anaconda3/lib/python3.6/site-packages/sklearn/feature_extraction/text.py:1089: FutureWarning: Conversion of the second argument of issubdtype from `float` to `np.floating` is deprecated. In future, it will be treated as `np.float64 == np.dtype(float).type`.\n",
      "  if hasattr(X, 'dtype') and np.issubdtype(X.dtype, np.float):\n",
      "\t\u001b[38;5;178m\u001b[1mscore   sacc    acc  tfacc\u001b[0m\n",
      "\t\u001b[38;5;10m\u001b[1mtrain\u001b[0m  \u001b[38;5;10m\u001b[1m\u001b[38;5;150m0.700\u001b[0m\u001b[0m  \u001b[38;5;150m0.991\u001b[0m  \u001b[38;5;10m\u001b[1m\u001b[38;5;150m0.700\u001b[0m\u001b[0m\n",
      "\t\u001b[38;5;12m\u001b[1mvalid\u001b[0m  \u001b[38;5;12m\u001b[1m\u001b[38;5;105m0.199\u001b[0m\u001b[0m  \u001b[38;5;105m0.312\u001b[0m  \u001b[38;5;12m\u001b[1m\u001b[38;5;105m0.199\u001b[0m\u001b[0m\n",
      "\t\u001b[38;5;1m\u001b[1mtest\u001b[0m   \u001b[38;5;1m\u001b[1m\u001b[38;5;218m0.637\u001b[0m\u001b[0m  \u001b[38;5;218m0.906\u001b[0m  \u001b[38;5;1m\u001b[1m\u001b[38;5;218m0.637\u001b[0m\u001b[0m\n",
      "\u001b[38;5;178m\u001b[1mCV fold 3\u001b[0m\n",
      "/Users/panxiao/anaconda3/lib/python3.6/site-packages/sklearn/feature_extraction/text.py:1089: FutureWarning: Conversion of the second argument of issubdtype from `float` to `np.floating` is deprecated. In future, it will be treated as `np.float64 == np.dtype(float).type`.\n",
      "  if hasattr(X, 'dtype') and np.issubdtype(X.dtype, np.float):\n",
      "\t\u001b[38;5;178m\u001b[1mscore   sacc    acc  tfacc\u001b[0m\n",
      "\t\u001b[38;5;10m\u001b[1mtrain\u001b[0m  \u001b[38;5;10m\u001b[1m\u001b[38;5;150m0.702\u001b[0m\u001b[0m  \u001b[38;5;150m0.992\u001b[0m  \u001b[38;5;10m\u001b[1m\u001b[38;5;150m0.702\u001b[0m\u001b[0m\n",
      "\t\u001b[38;5;12m\u001b[1mvalid\u001b[0m  \u001b[38;5;12m\u001b[1m\u001b[38;5;105m0.173\u001b[0m\u001b[0m  \u001b[38;5;105m0.248\u001b[0m  \u001b[38;5;12m\u001b[1m\u001b[38;5;105m0.173\u001b[0m\u001b[0m\n",
      "\t\u001b[38;5;1m\u001b[1mtest\u001b[0m   \u001b[38;5;1m\u001b[1m\u001b[38;5;218m0.635\u001b[0m\u001b[0m  \u001b[38;5;218m0.899\u001b[0m  \u001b[38;5;1m\u001b[1m\u001b[38;5;218m0.635\u001b[0m\u001b[0m\n",
      "\u001b[38;5;178m\u001b[1mCV fold 4\u001b[0m\n",
      "/Users/panxiao/anaconda3/lib/python3.6/site-packages/sklearn/feature_extraction/text.py:1089: FutureWarning: Conversion of the second argument of issubdtype from `float` to `np.floating` is deprecated. In future, it will be treated as `np.float64 == np.dtype(float).type`.\n",
      "  if hasattr(X, 'dtype') and np.issubdtype(X.dtype, np.float):\n",
      "\t\u001b[38;5;178m\u001b[1mscore   sacc    acc  tfacc\u001b[0m\n",
      "\t\u001b[38;5;10m\u001b[1mtrain\u001b[0m  \u001b[38;5;10m\u001b[1m\u001b[38;5;150m0.706\u001b[0m\u001b[0m  \u001b[38;5;150m0.984\u001b[0m  \u001b[38;5;10m\u001b[1m\u001b[38;5;150m0.706\u001b[0m\u001b[0m\n",
      "\t\u001b[38;5;12m\u001b[1mvalid\u001b[0m  \u001b[38;5;12m\u001b[1m\u001b[38;5;105m0.186\u001b[0m\u001b[0m  \u001b[38;5;105m0.296\u001b[0m  \u001b[38;5;12m\u001b[1m\u001b[38;5;105m0.186\u001b[0m\u001b[0m\n",
      "\t\u001b[38;5;1m\u001b[1mtest\u001b[0m   \u001b[38;5;1m\u001b[1m\u001b[38;5;218m0.641\u001b[0m\u001b[0m  \u001b[38;5;218m0.898\u001b[0m  \u001b[38;5;1m\u001b[1m\u001b[38;5;218m0.641\u001b[0m\u001b[0m\n",
      "\u001b[38;5;178m\u001b[1mCV fold 5\u001b[0m\n",
      "/Users/panxiao/anaconda3/lib/python3.6/site-packages/sklearn/feature_extraction/text.py:1089: FutureWarning: Conversion of the second argument of issubdtype from `float` to `np.floating` is deprecated. In future, it will be treated as `np.float64 == np.dtype(float).type`.\n",
      "  if hasattr(X, 'dtype') and np.issubdtype(X.dtype, np.float):\n",
      "\t\u001b[38;5;178m\u001b[1mscore   sacc    acc  tfacc\u001b[0m\n",
      "\t\u001b[38;5;10m\u001b[1mtrain\u001b[0m  \u001b[38;5;10m\u001b[1m\u001b[38;5;150m0.692\u001b[0m\u001b[0m  \u001b[38;5;150m0.989\u001b[0m  \u001b[38;5;10m\u001b[1m\u001b[38;5;150m0.692\u001b[0m\u001b[0m\n",
      "\t\u001b[38;5;12m\u001b[1mvalid\u001b[0m  \u001b[38;5;12m\u001b[1m\u001b[38;5;105m0.158\u001b[0m\u001b[0m  \u001b[38;5;105m0.208\u001b[0m  \u001b[38;5;12m\u001b[1m\u001b[38;5;105m0.158\u001b[0m\u001b[0m\n",
      "\t\u001b[38;5;1m\u001b[1mtest\u001b[0m   \u001b[38;5;1m\u001b[1m\u001b[38;5;218m0.626\u001b[0m\u001b[0m  \u001b[38;5;218m0.891\u001b[0m  \u001b[38;5;1m\u001b[1m\u001b[38;5;218m0.626\u001b[0m\u001b[0m\n",
      "\u001b[38;5;178m\u001b[1mCV fold 6\u001b[0m\n",
      "/Users/panxiao/anaconda3/lib/python3.6/site-packages/sklearn/feature_extraction/text.py:1089: FutureWarning: Conversion of the second argument of issubdtype from `float` to `np.floating` is deprecated. In future, it will be treated as `np.float64 == np.dtype(float).type`.\n",
      "  if hasattr(X, 'dtype') and np.issubdtype(X.dtype, np.float):\n",
      "\t\u001b[38;5;178m\u001b[1mscore   sacc    acc  tfacc\u001b[0m\n",
      "\t\u001b[38;5;10m\u001b[1mtrain\u001b[0m  \u001b[38;5;10m\u001b[1m\u001b[38;5;150m0.705\u001b[0m\u001b[0m  \u001b[38;5;150m0.995\u001b[0m  \u001b[38;5;10m\u001b[1m\u001b[38;5;150m0.705\u001b[0m\u001b[0m\n",
      "\t\u001b[38;5;12m\u001b[1mvalid\u001b[0m  \u001b[38;5;12m\u001b[1m\u001b[38;5;105m0.163\u001b[0m\u001b[0m  \u001b[38;5;105m0.200\u001b[0m  \u001b[38;5;12m\u001b[1m\u001b[38;5;105m0.163\u001b[0m\u001b[0m\n",
      "\t\u001b[38;5;1m\u001b[1mtest\u001b[0m   \u001b[38;5;1m\u001b[1m\u001b[38;5;218m0.637\u001b[0m\u001b[0m  \u001b[38;5;218m0.896\u001b[0m  \u001b[38;5;1m\u001b[1m\u001b[38;5;218m0.637\u001b[0m\u001b[0m\n",
      "\u001b[38;5;178m\u001b[1mCV fold 7\u001b[0m\n",
      "/Users/panxiao/anaconda3/lib/python3.6/site-packages/sklearn/feature_extraction/text.py:1089: FutureWarning: Conversion of the second argument of issubdtype from `float` to `np.floating` is deprecated. In future, it will be treated as `np.float64 == np.dtype(float).type`.\n",
      "  if hasattr(X, 'dtype') and np.issubdtype(X.dtype, np.float):\n",
      "\t\u001b[38;5;178m\u001b[1mscore   sacc    acc  tfacc\u001b[0m\n",
      "\t\u001b[38;5;10m\u001b[1mtrain\u001b[0m  \u001b[38;5;10m\u001b[1m\u001b[38;5;150m0.699\u001b[0m\u001b[0m  \u001b[38;5;150m0.987\u001b[0m  \u001b[38;5;10m\u001b[1m\u001b[38;5;150m0.699\u001b[0m\u001b[0m\n",
      "\t\u001b[38;5;12m\u001b[1mvalid\u001b[0m  \u001b[38;5;12m\u001b[1m\u001b[38;5;105m0.170\u001b[0m\u001b[0m  \u001b[38;5;105m0.256\u001b[0m  \u001b[38;5;12m\u001b[1m\u001b[38;5;105m0.170\u001b[0m\u001b[0m\n",
      "\t\u001b[38;5;1m\u001b[1mtest\u001b[0m   \u001b[38;5;1m\u001b[1m\u001b[38;5;218m0.633\u001b[0m\u001b[0m  \u001b[38;5;218m0.896\u001b[0m  \u001b[38;5;1m\u001b[1m\u001b[38;5;218m0.633\u001b[0m\u001b[0m\n",
      "\u001b[38;5;178m\u001b[1m----------------------------\u001b[0m\n",
      "\u001b[38;5;178m\u001b[1mMean CV scores\u001b[0m\n",
      "\u001b[38;5;178m\u001b[1m----------------------------\u001b[0m\n",
      "\t\u001b[38;5;178m\u001b[1mscore            sacc             acc           tfacc\u001b[0m\n",
      "\t\u001b[38;5;10m\u001b[1mtrain\u001b[0m  \u001b[38;5;10m\u001b[1m\u001b[38;5;150m0.699\u001b[0m\u001b[0m \u001b[38;5;150m\u001b[38;5;150m\u001b[38;5;150m±\u001b[0m\u001b[0m\u001b[0m \u001b[38;5;150m\u001b[38;5;150m0.0057\u001b[0m\u001b[0m   \u001b[38;5;150m0.99\u001b[0m \u001b[38;5;150m\u001b[38;5;150m\u001b[38;5;150m±\u001b[0m\u001b[0m\u001b[0m \u001b[38;5;150m0.0032\u001b[0m  \u001b[38;5;10m\u001b[1m\u001b[38;5;150m0.699\u001b[0m\u001b[0m \u001b[38;5;150m\u001b[38;5;150m\u001b[38;5;150m±\u001b[0m\u001b[0m\u001b[0m \u001b[38;5;150m\u001b[38;5;150m0.0057\u001b[0m\u001b[0m\n",
      "\t\u001b[38;5;12m\u001b[1mvalid\u001b[0m  \u001b[38;5;12m\u001b[1m\u001b[38;5;105m0.175\u001b[0m\u001b[0m \u001b[38;5;105m\u001b[38;5;105m\u001b[38;5;105m±\u001b[0m\u001b[0m\u001b[0m \u001b[38;5;105m\u001b[38;5;105m0.0121\u001b[0m\u001b[0m  \u001b[38;5;105m0.247\u001b[0m \u001b[38;5;105m\u001b[38;5;105m\u001b[38;5;105m±\u001b[0m\u001b[0m\u001b[0m \u001b[38;5;105m0.0399\u001b[0m  \u001b[38;5;12m\u001b[1m\u001b[38;5;105m0.175\u001b[0m\u001b[0m \u001b[38;5;105m\u001b[38;5;105m\u001b[38;5;105m±\u001b[0m\u001b[0m\u001b[0m \u001b[38;5;105m\u001b[38;5;105m0.0121\u001b[0m\u001b[0m\n",
      "\t\u001b[38;5;1m\u001b[1mtest\u001b[0m   \u001b[38;5;1m\u001b[1m\u001b[38;5;218m0.633\u001b[0m\u001b[0m \u001b[38;5;218m\u001b[38;5;218m\u001b[38;5;218m±\u001b[0m\u001b[0m\u001b[0m \u001b[38;5;218m\u001b[38;5;218m0.0055\u001b[0m\u001b[0m  \u001b[38;5;218m0.897\u001b[0m \u001b[38;5;218m\u001b[38;5;218m\u001b[38;5;218m±\u001b[0m\u001b[0m\u001b[0m \u001b[38;5;218m0.0047\u001b[0m  \u001b[38;5;1m\u001b[1m\u001b[38;5;218m0.633\u001b[0m\u001b[0m \u001b[38;5;218m\u001b[38;5;218m\u001b[38;5;218m±\u001b[0m\u001b[0m\u001b[0m \u001b[38;5;218m\u001b[38;5;218m0.0055\u001b[0m\u001b[0m\n",
      "\u001b[38;5;178m\u001b[1m----------------------------\u001b[0m\n",
      "\u001b[38;5;178m\u001b[1mBagged scores\u001b[0m\n",
      "\u001b[38;5;178m\u001b[1m----------------------------\u001b[0m\n",
      "\t\u001b[38;5;178m\u001b[1mscore   sacc\u001b[0m\n",
      "\t\u001b[38;5;12m\u001b[1mvalid\u001b[0m  \u001b[38;5;12m\u001b[1m0.175\u001b[0m\n",
      "\t\u001b[38;5;1m\u001b[1mtest\u001b[0m   \u001b[38;5;1m\u001b[1m0.633\u001b[0m\n"
     ]
    }
   ],
   "source": [
    "!ramp_test_submission --submission px"
   ]
  },
  {
   "cell_type": "code",
   "execution_count": 5,
   "metadata": {},
   "outputs": [
    {
     "data": {
      "text/plain": [
       "'/Users/panxiao/Desktop/data_camp/mbti_kaggle'"
      ]
     },
     "execution_count": 5,
     "metadata": {},
     "output_type": "execute_result"
    }
   ],
   "source": [
    "pwd"
   ]
  },
  {
   "cell_type": "code",
   "execution_count": null,
   "metadata": {
    "collapsed": true
   },
   "outputs": [],
   "source": []
  }
 ],
 "metadata": {
  "kernelspec": {
   "display_name": "Python 3",
   "language": "python",
   "name": "python3"
  },
  "language_info": {
   "codemirror_mode": {
    "name": "ipython",
    "version": 3
   },
   "file_extension": ".py",
   "mimetype": "text/x-python",
   "name": "python",
   "nbconvert_exporter": "python",
   "pygments_lexer": "ipython3",
   "version": "3.6.3"
  }
 },
 "nbformat": 4,
 "nbformat_minor": 2
}
