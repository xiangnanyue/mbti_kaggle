{
 "cells": [
  {
   "cell_type": "code",
   "execution_count": 9,
   "metadata": {},
   "outputs": [
    {
     "name": "stdout",
     "output_type": "stream",
     "text": [
      "Overwriting submissions/px/feature_extractor.py\n"
     ]
    }
   ],
   "source": [
    "%%file submissions/px/feature_extractor.py\n",
    "# -*- coding: utf-8 -*-\n",
    "\n",
    "from __future__ import unicode_literals\n",
    "\n",
    "from sklearn.feature_extraction.text import TfidfVectorizer\n",
    "\n",
    "\n",
    "def document_preprocessor(doc):\n",
    "    \"\"\" A custom document preprocessor\n",
    "\n",
    "    This function can be edited to add some additional\n",
    "    transformation on the documents prior to tokenization.\n",
    "\n",
    "    At present, this function passes the document through\n",
    "    without modification.\n",
    "    \"\"\"\n",
    "    return doc\n",
    "\n",
    "\n",
    "def token_processor(tokens):\n",
    "    \"\"\" A custom token processor\n",
    "\n",
    "    This function can be edited to add some additional\n",
    "    transformation on the extracted tokens (e.g. stemming)\n",
    "\n",
    "    At present, this function just passes the tokens through.\n",
    "    \"\"\"\n",
    "    for t in tokens:\n",
    "        yield t\n",
    "\n",
    "\n",
    "class FeatureExtractor(TfidfVectorizer):\n",
    "    \"\"\"Convert a collection of raw docs to a matrix of TF-IDF features. \"\"\"\n",
    "\n",
    "    def __init__(self):\n",
    "        # see ``TfidfVectorizer`` documentation for other feature\n",
    "        # extraction parameters.\n",
    "        super(FeatureExtractor, self).__init__(\n",
    "                analyzer='word', preprocessor=document_preprocessor)\n",
    "\n",
    "    def fit(self, X_df, y=None):\n",
    "        \"\"\"Learn a vocabulary dictionary of all tokens in the raw documents.\n",
    "\n",
    "        Parameters\n",
    "        ----------\n",
    "        X_df : pandas.DataFrame\n",
    "            a DataFrame, where the text data is stored in the ``statement``\n",
    "            column.\n",
    "        \"\"\"\n",
    "        super(FeatureExtractor, self).fit(X_df.statement)\n",
    "        return self\n",
    "\n",
    "    def fit_transform(self, X_df, y=None):\n",
    "        return self.fit(X_df).transform(X_df)\n",
    "\n",
    "    def transform(self, X_df):\n",
    "        X = super(FeatureExtractor, self).transform(X_df.statement)\n",
    "        return X\n",
    "\n",
    "    def build_tokenizer(self):\n",
    "        \"\"\"\n",
    "        Internal function, needed to plug-in the token processor, cf.\n",
    "        http://scikit-learn.org/stable/modules/feature_extraction.html#customizing-the-vectorizer-classes\n",
    "        \"\"\"\n",
    "        tokenize = super(FeatureExtractor, self).build_tokenizer()\n",
    "        return lambda doc: list(token_processor(tokenize(doc)))\n",
    "\n",
    "\n"
   ]
  },
  {
   "cell_type": "code",
   "execution_count": 10,
   "metadata": {},
   "outputs": [
    {
     "name": "stdout",
     "output_type": "stream",
     "text": [
      "Overwriting submissions/px/classifier.py\n"
     ]
    }
   ],
   "source": [
    "%%file submissions/px/classifier.py\n",
    "# -*- coding: utf-8 -*-\n",
    "from sklearn.base import BaseEstimator\n",
    "from sklearn.ensemble import RandomForestClassifier\n",
    "\n",
    "\n",
    "class Classifier(BaseEstimator):\n",
    "    def __init__(self):\n",
    "        self.clf = RandomForestClassifier()\n",
    "\n",
    "    def fit(self, X, y):\n",
    "        self.clf.fit(X.todense(), y)\n",
    "\n",
    "    def predict(self, X):\n",
    "        return self.clf.predict(X.todense())\n",
    "\n",
    "    def predict_proba(self, X):\n",
    "        return self.clf.predict_proba(X)\n",
    "\n"
   ]
  },
  {
   "cell_type": "code",
   "execution_count": 11,
   "metadata": {},
   "outputs": [
    {
     "name": "stdout",
     "output_type": "stream",
     "text": [
      "\u001b[38;5;178m\u001b[1mTesting MBTI\u001b[0m\n",
      "\u001b[38;5;178m\u001b[1mReading train and test files from ./data ...\u001b[0m\n",
      "Traceback (most recent call last):\n",
      "  File \"/Users/panxiao/anaconda3/lib/python3.6/site-packages/pandas/core/indexes/base.py\", line 2525, in get_loc\n",
      "    return self._engine.get_loc(key)\n",
      "  File \"pandas/_libs/index.pyx\", line 117, in pandas._libs.index.IndexEngine.get_loc\n",
      "  File \"pandas/_libs/index.pyx\", line 139, in pandas._libs.index.IndexEngine.get_loc\n",
      "  File \"pandas/_libs/hashtable_class_helper.pxi\", line 1265, in pandas._libs.hashtable.PyObjectHashTable.get_item\n",
      "  File \"pandas/_libs/hashtable_class_helper.pxi\", line 1273, in pandas._libs.hashtable.PyObjectHashTable.get_item\n",
      "KeyError: 'type'\n",
      "\n",
      "During handling of the above exception, another exception occurred:\n",
      "\n",
      "Traceback (most recent call last):\n",
      "  File \"/Users/panxiao/anaconda3/bin/ramp_test_submission\", line 11, in <module>\n",
      "    load_entry_point('ramp-workflow==0.2.0+8.gf3cf8ce', 'console_scripts', 'ramp_test_submission')()\n",
      "  File \"/Users/panxiao/anaconda3/lib/python3.6/site-packages/rampwf/utils/command_line.py\", line 85, in ramp_test_submission\n",
      "    retrain=retrain)\n",
      "  File \"/Users/panxiao/anaconda3/lib/python3.6/site-packages/rampwf/utils/testing.py\", line 536, in assert_submission\n",
      "    X_train, y_train, X_test, y_test = assert_data(ramp_kit_dir, ramp_data_dir)\n",
      "  File \"/Users/panxiao/anaconda3/lib/python3.6/site-packages/rampwf/utils/testing.py\", line 90, in assert_data\n",
      "    X_train, y_train = problem.get_train_data(path=ramp_data_dir)\n",
      "  File \"./problem.py\", line 73, in get_train_data\n",
      "    return _read_data(path, f_name)\n",
      "  File \"./problem.py\", line 62, in _read_data\n",
      "    y_array = data[_target_column_name].values\n",
      "  File \"/Users/panxiao/anaconda3/lib/python3.6/site-packages/pandas/core/frame.py\", line 2139, in __getitem__\n",
      "    return self._getitem_column(key)\n",
      "  File \"/Users/panxiao/anaconda3/lib/python3.6/site-packages/pandas/core/frame.py\", line 2146, in _getitem_column\n",
      "    return self._get_item_cache(key)\n",
      "  File \"/Users/panxiao/anaconda3/lib/python3.6/site-packages/pandas/core/generic.py\", line 1842, in _get_item_cache\n",
      "    values = self._data.get(item)\n",
      "  File \"/Users/panxiao/anaconda3/lib/python3.6/site-packages/pandas/core/internals.py\", line 3843, in get\n",
      "    loc = self.items.get_loc(item)\n",
      "  File \"/Users/panxiao/anaconda3/lib/python3.6/site-packages/pandas/core/indexes/base.py\", line 2527, in get_loc\n",
      "    return self._engine.get_loc(self._maybe_cast_indexer(key))\n",
      "  File \"pandas/_libs/index.pyx\", line 117, in pandas._libs.index.IndexEngine.get_loc\n",
      "  File \"pandas/_libs/index.pyx\", line 139, in pandas._libs.index.IndexEngine.get_loc\n",
      "  File \"pandas/_libs/hashtable_class_helper.pxi\", line 1265, in pandas._libs.hashtable.PyObjectHashTable.get_item\n",
      "  File \"pandas/_libs/hashtable_class_helper.pxi\", line 1273, in pandas._libs.hashtable.PyObjectHashTable.get_item\n",
      "KeyError: 'type'\n"
     ]
    }
   ],
   "source": [
    "!ramp_test_submission --submission px"
   ]
  },
  {
   "cell_type": "code",
   "execution_count": 5,
   "metadata": {},
   "outputs": [
    {
     "data": {
      "text/plain": [
       "'/Users/panxiao/Desktop/data_camp/mbti_kaggle'"
      ]
     },
     "execution_count": 5,
     "metadata": {},
     "output_type": "execute_result"
    }
   ],
   "source": [
    "pwd"
   ]
  },
  {
   "cell_type": "code",
   "execution_count": null,
   "metadata": {
    "collapsed": true
   },
   "outputs": [],
   "source": []
  }
 ],
 "metadata": {
  "kernelspec": {
   "display_name": "Python 3",
   "language": "python",
   "name": "python3"
  },
  "language_info": {
   "codemirror_mode": {
    "name": "ipython",
    "version": 3
   },
   "file_extension": ".py",
   "mimetype": "text/x-python",
   "name": "python",
   "nbconvert_exporter": "python",
   "pygments_lexer": "ipython3",
   "version": "3.6.4"
  }
 },
 "nbformat": 4,
 "nbformat_minor": 2
}
